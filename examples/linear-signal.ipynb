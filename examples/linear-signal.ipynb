{
 "cells": [
  {
   "cell_type": "code",
   "execution_count": 31,
   "metadata": {},
   "outputs": [],
   "source": [
    "using Pkg; Pkg.activate(\"..\")\n",
    "using Revise\n",
    "using GraphFusedLasso\n",
    "using Distributions\n",
    "using Random\n",
    "using RCall"
   ]
  },
  {
   "cell_type": "code",
   "execution_count": 32,
   "metadata": {},
   "outputs": [
    {
     "data": {
      "text/plain": [
       "RObject{StrSxp}\n",
       " [1] \"forcats\"   \"stringr\"   \"dplyr\"     \"purrr\"     \"readr\"     \"tidyr\"    \n",
       " [7] \"tibble\"    \"ggplot2\"   \"tidyverse\" \"stats\"     \"graphics\"  \"grDevices\"\n",
       "[13] \"utils\"     \"datasets\"  \"methods\"   \"base\"     \n"
      ]
     },
     "execution_count": 32,
     "metadata": {},
     "output_type": "execute_result"
    }
   ],
   "source": [
    "R\"\"\"\n",
    "library(tidyverse)\n",
    "\"\"\""
   ]
  },
  {
   "cell_type": "code",
   "execution_count": 33,
   "metadata": {},
   "outputs": [
    {
     "data": {
      "text/plain": [
       "MersenneTwister(UInt32[0x00066464], Random.DSFMT.DSFMT_state(Int32[1027274736, 1072880807, 1911739755, 1072763420, 1654741845, 1072747073, 1498418597, 1073613876, 1884067894, 1072844491  …  -1719540820, 1072722596, 1264495888, 1073061082, -1781459441, 282024113, 1066848294, -295414804, 382, 0]), [0.0, 0.0, 0.0, 0.0, 0.0, 0.0, 0.0, 0.0, 0.0, 0.0  …  0.0, 0.0, 0.0, 0.0, 0.0, 0.0, 0.0, 0.0, 0.0, 0.0], UInt128[0x00000000000000000000000000000000, 0x00000000000000000000000000000000, 0x00000000000000000000000000000000, 0x00000000000000000000000000000000, 0x00000000000000000000000000000000, 0x00000000000000000000000000000000, 0x00000000000000000000000000000000, 0x00000000000000000000000000000000, 0x00000000000000000000000000000000, 0x00000000000000000000000000000000  …  0x00000000000000000000000000000000, 0x00000000000000000000000000000000, 0x00000000000000000000000000000000, 0x00000000000000000000000000000000, 0x00000000000000000000000000000000, 0x00000000000000000000000000000000, 0x00000000000000000000000000000000, 0x00000000000000000000000000000000, 0x00000000000000000000000000000000, 0x00000000000000000000000000000000], 1002, 0)"
      ]
     },
     "execution_count": 33,
     "metadata": {},
     "output_type": "execute_result"
    }
   ],
   "source": [
    "Random.seed!(418916)\n",
    "# 489613"
   ]
  },
  {
   "cell_type": "code",
   "execution_count": 34,
   "metadata": {},
   "outputs": [
    {
     "name": "stderr",
     "output_type": "stream",
     "text": [
      "┌ Warning: `range(start, stop)` (with neither `length` nor `step` given) is deprecated, use `range(start, stop=stop)` instead.\n",
      "│   caller = top-level scope at In[34]:4\n",
      "└ @ Core In[34]:4\n",
      "┌ Warning: `range(start, stop)` (with neither `length` nor `step` given) is deprecated, use `range(start, stop=stop)` instead.\n",
      "│   caller = top-level scope at In[34]:6\n",
      "└ @ Core In[34]:6\n"
     ]
    },
    {
     "data": {
      "image/png": "[encoded data removed]"
     },
     "metadata": {},
     "output_type": "display_data"
    },
    {
     "data": {
      "text/plain": [
       "RObject{VecSxp}\n"
      ]
     },
     "execution_count": 34,
     "metadata": {},
     "output_type": "execute_result"
    }
   ],
   "source": [
    "# data generation\n",
    "\n",
    "N = 150\n",
    "\n",
    "x1 = collect(range(1, 2N ÷ 3))\n",
    "x2 = collect(range(2N ÷ 3 + 1, N))\n",
    "x = [x1; x2]\n",
    "y1 = 50.0floor.(x1 / 50) ./ N\n",
    "y2 = x2 ./ N\n",
    "y_true = [y1; y2]\n",
    "ϵ = rand(Normal(0., 0.1), N)\n",
    "y_noise = y_true + 2ϵ\n",
    "\n",
    "p_miss = 0.66\n",
    "mask = rand(Bernoulli(1 - p_miss), N)\n",
    "mask = Bool.(mask)\n",
    "mask[N - 1] = false\n",
    "mask[N] = true\n",
    "\n",
    "y = [mi ? yi : missing for (yi, mi) in zip(y_noise, mask)]\n",
    "y_obs = y[mask]\n",
    "x_obs = x[mask]\n",
    "\n",
    "y_miss = y_true[.!mask]\n",
    "x_miss = x[.!mask]\n",
    "\n",
    "ptr = collect(1:N)\n",
    "brks = [1, N + 1]\n",
    "\n",
    "R\"\"\"\n",
    "d1 = data.frame(x=$x1, y=$y1)\n",
    "d2 = data.frame(x=$x2, y=$y2)\n",
    "dobs = data.frame(x=$x_obs, y=$y_obs)\n",
    "dmiss = data.frame(x=$x_miss, y=$y_miss)\n",
    "\n",
    "ggplot() +\n",
    "    geom_step(data=d1, aes(x=x, y=y)) + \n",
    "    geom_line(data=d2, aes(x=x, y=y)) +\n",
    "    geom_point(data=dobs, aes(x=x, y=y), size=2, alpha=0.3) +\n",
    "    geom_point(data=dmiss, aes(x=x, y=y), size=2, color=\"red\", shape=4)\n",
    "\"\"\""
   ]
  },
  {
   "cell_type": "code",
   "execution_count": 35,
   "metadata": {},
   "outputs": [
    {
     "data": {
      "text/plain": [
       "cv_fit (generic function with 1 method)"
      ]
     },
     "execution_count": 35,
     "metadata": {},
     "output_type": "execute_result"
    }
   ],
   "source": [
    "# function for cross-validation fit\n",
    "\n",
    "function generate_cvsets(y, nsplits)\n",
    "    # make the cv splits\n",
    "    N = length(y)\n",
    "    cvsets = [Set{Int}() for i in 1:nsplits]\n",
    "    iobs = shuffle([i for (i, yi) in enumerate(y) if !ismissing(yi)])\n",
    "    Nobs = length(iobs)\n",
    "    splitsize = Nobs ÷ nsplits\n",
    "    for k in 1:nsplits\n",
    "        for i in ((k - 1) * splitsize + 1):(k * splitsize)\n",
    "            push!(cvsets[k], iobs[i])\n",
    "        end\n",
    "    end\n",
    "    return cvsets\n",
    "end\n",
    "\n",
    "                \n",
    "function cv_fit(y, ptr, brks, lambdas, cvsets)\n",
    "    # for each cv split get the mse error\n",
    "    N = length(y)\n",
    "    nsplits = length(cvsets)\n",
    "    nlambdas = length(lambdas)\n",
    "    mse = zeros(nlambdas)\n",
    "    mae = zeros(nlambdas)\n",
    "    for (k, (λ1, λ2)) in enumerate(lambdas)\n",
    "        for i in 1:nsplits\n",
    "            # get the cv vector with missing data\n",
    "            ytrain = [j in cvsets[i] ? missing : yi\n",
    "                      for (j, yi) in enumerate(y)]\n",
    "\n",
    "            # fit the model\n",
    "            lambdasl1 = fill(λ1, N)\n",
    "            lambdasl2 = fill(λ2, N)\n",
    "            model = FilterEnet(\n",
    "                ptr, brks, lambdasl1, lambdasl2;\n",
    "                prior_mean=0.0, prior_weight=1e-3,\n",
    "                abstol=0.0, reltol=1e-7)\n",
    "\n",
    "            fit!(model, ytrain; steps=1000)\n",
    "            yhat = predict(model)\n",
    "                            \n",
    "            # compute the out-of-sample error\n",
    "            ytest = y[collect(cvsets[i])]\n",
    "            yhat_test = yhat[collect(cvsets[i])]\n",
    "                            \n",
    "            mse[k] += mean((ytest - yhat_test) .^ 2) / nsplits\n",
    "            mae[k] += mean(abs.(ytest - yhat_test)) / nsplits\n",
    "        end\n",
    "    end\n",
    "\n",
    "    # now choose the best lambdas\n",
    "    best_lambdas_mse = lambdas[argmin(mse)]\n",
    "    best_mse = minimum(mse)\n",
    "    best_lambdas_mae = lambdas[argmin(mae)]\n",
    "    best_mae = minimum(mae)\n",
    "\n",
    "    # train best for mse\n",
    "    lambdasl1 = fill(best_lambdas_mse[1], N)\n",
    "    lambdasl2 = fill(best_lambdas_mse[2], N)\n",
    "    model = FilterEnet(\n",
    "                ptr, brks, lambdasl1, lambdasl2;\n",
    "                prior_mean=0.0, prior_weight=1e-3,\n",
    "                abstol=0.0, reltol=1e-7)\n",
    "    fit!(model, y; steps=1000)\n",
    "    yhat_mse = predict(model)\n",
    "\n",
    "    # train best for mae\n",
    "    lambdasl1 = fill(best_lambdas_mae[1], N)\n",
    "    lambdasl2 = fill(best_lambdas_mae[2], N)\n",
    "    model = FilterEnet(\n",
    "                ptr, brks, lambdasl1, lambdasl2;\n",
    "                prior_mean=0.0, prior_weight=1e-3,\n",
    "                abstol=0.0, reltol=1e-7)\n",
    "    fit!(model, y; steps=1000)\n",
    "    yhat_mae = predict(model)\n",
    "\n",
    "    return Dict(\"best_lambdas_mse\" => best_lambdas_mse,\n",
    "                \"best_lambdas_mae\" => best_lambdas_mae,\n",
    "                \"yhat_mse\" => yhat_mse,\n",
    "                \"yhat_mae\" => yhat_mae,\n",
    "                \"best_rmse\" => sqrt(best_mse),\n",
    "                \"best_mae\" => best_mae,\n",
    "                \"mse\" => mse,\n",
    "                \"mae\" => mae,\n",
    "                \"cvsets\" => cvsets)\n",
    "end"
   ]
  },
  {
   "cell_type": "code",
   "execution_count": 36,
   "metadata": {},
   "outputs": [
    {
     "data": {
      "text/plain": [
       "5-element Array{Set{Int64},1}:\n",
       " Set([133, 9, 10, 83, 58, 72, 49, 79, 142])  \n",
       " Set([125, 116, 74, 93, 64, 109, 97, 144, 6])\n",
       " Set([4, 75, 35, 3, 126, 137, 48, 141, 85])  \n",
       " Set([92, 25, 31, 2, 65, 95, 150, 44, 22])   \n",
       " Set([7, 14, 148, 81, 122, 131, 28, 19, 88]) "
      ]
     },
     "execution_count": 36,
     "metadata": {},
     "output_type": "execute_result"
    }
   ],
   "source": [
    "nsplits = 5\n",
    "cvsets = generate_cvsets(y, nsplits)"
   ]
  },
  {
   "cell_type": "code",
   "execution_count": 37,
   "metadata": {},
   "outputs": [
    {
     "data": {
      "text/plain": [
       "Dict{String,Any} with 9 entries:\n",
       "  \"best_lambdas_mae\" => (0.55102, 1.0e-12)\n",
       "  \"yhat_mae\"         => [0.0462483, 0.0462483, 0.0462483, 0.0462483, 0.0462483,…\n",
       "  \"yhat_mse\"         => [0.0428576, 0.0428576, 0.0428576, 0.0428576, 0.0428576,…\n",
       "  \"best_mae\"         => 0.181303\n",
       "  \"best_lambdas_mse\" => (0.489796, 1.0e-12)\n",
       "  \"best_rmse\"        => 0.222482\n",
       "  \"mse\"              => [0.336616, 0.0617328, 0.0549477, 0.051837, 0.0514393, 0…\n",
       "  \"cvsets\"           => Set{Int64}[Set([133, 9, 10, 83, 58, 72, 49, 79, 142]), …\n",
       "  \"mae\"              => [0.452582, 0.201775, 0.187006, 0.183677, 0.184491, 0.18…"
      ]
     },
     "metadata": {},
     "output_type": "display_data"
    },
    {
     "data": {
      "image/png": "[encoded data removed]"
     },
     "metadata": {},
     "output_type": "display_data"
    },
    {
     "data": {
      "text/plain": [
       "RObject{VecSxp}\n"
      ]
     },
     "execution_count": 37,
     "metadata": {},
     "output_type": "execute_result"
    }
   ],
   "source": [
    "# compute the fused lasso best\n",
    "lambdas = [(l, 1e-12) for l in range(1e-12, 3.0, length=50)]\n",
    "results_fl = cv_fit(y, ptr, brks, lambdas, cvsets)\n",
    "yhat_fl = results_fl[\"yhat_mse\"]\n",
    "\n",
    "display(results_fl)\n",
    "\n",
    "R\"\"\"\n",
    "d1 = data.frame(x=$x1, y=$y1)\n",
    "d2 = data.frame(x=$x2, y=$y2)\n",
    "dobs = data.frame(x=$x_obs, y=$y_obs)\n",
    "dfit = data.frame(x=$x, y=$yhat_fl)\n",
    "dmiss = data.frame(x=$x_miss, y=$y_miss)\n",
    "ggplot() +\n",
    "    geom_step(data=d1, aes(x=x, y=y), linetype=\"dashed\") + \n",
    "    geom_line(data=d2, aes(x=x, y=y), linetype=\"dashed\") +\n",
    "    geom_point(data=dobs, aes(x=x, y=y), size=2, alpha=0.3) +\n",
    "    geom_step(data=dfit, aes(x=x, y=y), color=\"blue\", size=1) +\n",
    "    labs(x=\"\", y=\"\") +\n",
    "    ggsave(\"benchmarks_linear_fl.png\", units=\"cm\", width=12, height=7)\n",
    "\"\"\""
   ]
  },
  {
   "cell_type": "code",
   "execution_count": 38,
   "metadata": {
    "scrolled": false
   },
   "outputs": [
    {
     "data": {
      "text/plain": [
       "Dict{String,Any} with 9 entries:\n",
       "  \"best_lambdas_mae\" => (1.0e-12, 8.08081)\n",
       "  \"yhat_mae\"         => [0.0967888, 0.0968007, 0.0922059, 0.0939125, 0.0955236,…\n",
       "  \"yhat_mse\"         => [0.0907706, 0.090777, 0.0877246, 0.0879558, 0.0877107, …\n",
       "  \"best_mae\"         => 0.156098\n",
       "  \"best_lambdas_mse\" => (1.0e-12, 14.1414)\n",
       "  \"best_rmse\"        => 0.203541\n",
       "  \"mse\"              => [0.336616, 0.0537424, 0.0505361, 0.0485234, 0.0470912, …\n",
       "  \"cvsets\"           => Set{Int64}[Set([133, 9, 10, 83, 58, 72, 49, 79, 142]), …\n",
       "  \"mae\"              => [0.452582, 0.179889, 0.171829, 0.166763, 0.163325, 0.16…"
      ]
     },
     "metadata": {},
     "output_type": "display_data"
    },
    {
     "data": {
      "image/png": "[encoded data removed]"
     },
     "metadata": {},
     "output_type": "display_data"
    },
    {
     "data": {
      "text/plain": [
       "RObject{VecSxp}\n"
      ]
     },
     "execution_count": 38,
     "metadata": {},
     "output_type": "execute_result"
    }
   ],
   "source": [
    "# compute the kalman filter best\n",
    "lambdas = [(1e-12, l) for l in range(1e-12, 50.0, length=100)]\n",
    "results_kal = cv_fit(y, ptr, brks, lambdas, cvsets)\n",
    "yhat_kal = results_kal[\"yhat_mse\"]\n",
    "\n",
    "display(results_kal)\n",
    "\n",
    "R\"\"\"\n",
    "d1 = data.frame(x=$x1, y=$y1)\n",
    "d2 = data.frame(x=$x2, y=$y2)\n",
    "dobs = data.frame(x=$x_obs, y=$y_obs)\n",
    "dfit = data.frame(x=$x, y=$yhat_kal)\n",
    "dmiss = data.frame(x=$x_miss, y=$y_miss)\n",
    "ggplot() +\n",
    "    geom_step(data=d1, aes(x=x, y=y), linetype=\"dashed\") + \n",
    "    geom_line(data=d2, aes(x=x, y=y), linetype=\"dashed\") +\n",
    "    geom_point(data=dobs, aes(x=x, y=y), size=2, alpha=0.3) +\n",
    "    geom_line(data=dfit, aes(x=x, y=y), color=\"blue\", size=1) +\n",
    "    labs(x=\"\", y=\"\") +\n",
    "    ggsave(\"benchmarks_linear_kal.png\", units=\"cm\", width=12, height=7)\n",
    "\"\"\"\n"
   ]
  },
  {
   "cell_type": "code",
   "execution_count": 39,
   "metadata": {},
   "outputs": [
    {
     "data": {
      "text/plain": [
       "Dict{String,Any} with 9 entries:\n",
       "  \"best_lambdas_mae\" => (0.0204082, 6.53061)\n",
       "  \"yhat_mae\"         => [0.0988367, 0.0988367, 0.0965885, 0.0965885, 0.0968514,…\n",
       "  \"yhat_mse\"         => [0.0510917, 0.0510917, 0.0510917, 0.0510917, 0.0510917,…\n",
       "  \"best_mae\"         => 0.15604\n",
       "  \"best_lambdas_mse\" => (0.346939, 6.93878)\n",
       "  \"best_rmse\"        => 0.202524\n",
       "  \"mse\"              => [0.336616, 0.0546556, 0.0515604, 0.0495875, 0.0481495, …\n",
       "  \"cvsets\"           => Set{Int64}[Set([133, 9, 10, 83, 58, 72, 49, 79, 142]), …\n",
       "  \"mae\"              => [0.452582, 0.182184, 0.174415, 0.169408, 0.165884, 0.16…"
      ]
     },
     "metadata": {},
     "output_type": "display_data"
    },
    {
     "data": {
      "image/png": "[encoded data removed]"
     },
     "metadata": {},
     "output_type": "display_data"
    },
    {
     "data": {
      "text/plain": [
       "RObject{VecSxp}\n"
      ]
     },
     "execution_count": 39,
     "metadata": {},
     "output_type": "execute_result"
    }
   ],
   "source": [
    "# compute the gfenet best\n",
    "lambdas = [(l1, l2) for l1 in range(1e-12, 1.0, length=50)\n",
    "                    for l2 in range(1e-12, 20.0, length=50)]\n",
    "results_enet = cv_fit(y, ptr, brks, lambdas, cvsets)\n",
    "yhat_enet = results_enet[\"yhat_mse\"]\n",
    "            \n",
    "display(results_enet)\n",
    "\n",
    "R\"\"\"\n",
    "d1 = data.frame(x=$x1, y=$y1)\n",
    "d2 = data.frame(x=$x2, y=$y2)\n",
    "dobs = data.frame(x=$x_obs, y=$y_obs)\n",
    "dfit = data.frame(x=$x, y=$yhat_enet)\n",
    "ggplot() +\n",
    "    geom_step(data=d1, aes(x=x, y=y), linetype=\"dashed\") + \n",
    "    geom_line(data=d2, aes(x=x, y=y), linetype=\"dashed\") +\n",
    "    geom_point(data=dobs, aes(x=x, y=y), size=2, alpha=0.3) +\n",
    "    geom_line(data=dfit, aes(x=x, y=y), color=\"blue\", size=1) +\n",
    "    labs(x=\"\", y=\"\") +\n",
    "    ggsave(\"benchmarks_linear_enet.png\", units=\"cm\", width=12, height=7)\n",
    "\"\"\"\n"
   ]
  },
  {
   "cell_type": "code",
   "execution_count": null,
   "metadata": {},
   "outputs": [],
   "source": []
  },
  {
   "cell_type": "code",
   "execution_count": null,
   "metadata": {},
   "outputs": [],
   "source": []
  },
  {
   "cell_type": "code",
   "execution_count": null,
   "metadata": {},
   "outputs": [],
   "source": []
  },
  {
   "cell_type": "code",
   "execution_count": null,
   "metadata": {},
   "outputs": [],
   "source": []
  }
 ],
 "metadata": {
  "kernelspec": {
   "display_name": "Julia 1.1.0",
   "language": "julia",
   "name": "julia-1.1"
  },
  "language_info": {
   "file_extension": ".jl",
   "mimetype": "application/julia",
   "name": "julia",
   "version": "1.1.0"
  }
 },
 "nbformat": 4,
 "nbformat_minor": 2
}
