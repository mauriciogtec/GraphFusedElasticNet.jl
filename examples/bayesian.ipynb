{
 "cells": [
  {
   "cell_type": "code",
   "execution_count": 1,
   "metadata": {},
   "outputs": [
    {
     "name": "stderr",
     "output_type": "stream",
     "text": [
      "\u001b[32m\u001b[1m Activating\u001b[22m\u001b[39m environment at `C:\\Users\\mauri\\Github\\GraphFusedElasticNet.jl\\Project.toml`\n",
      "┌ Info: Precompiling GraphFusedElasticNet [f5121390-0a77-11ea-346e-a5df2c1e4685]\n",
      "└ @ Base loading.jl:1278\n"
     ]
    }
   ],
   "source": [
    "using Pkg; Pkg.activate(\"..\")\n",
    "using GraphFusedElasticNet\n",
    "using ProgressMeter\n",
    "using Distributions\n",
    "using Plots\n",
    "using StatsFuns"
   ]
  },
  {
   "cell_type": "markdown",
   "metadata": {},
   "source": [
    "Generate fake data from a 3D grid."
   ]
  },
  {
   "cell_type": "code",
   "execution_count": 2,
   "metadata": {},
   "outputs": [],
   "source": [
    "nr = 61\n",
    "nc = 61\n",
    "nk = 30\n",
    "\n",
    "p0 = zeros(nr, nc, nk)\n",
    "s = zeros(nr, nc, nk)\n",
    "a = zeros(nr, nc, nk)\n",
    "\n",
    "for k in 1:nk\n",
    "    for j in 1:nc\n",
    "        for i in 1:nr\n",
    "            b = Float64((i - (nr / 2)) * (j - (nc / 2)) * (k - nk / 2) ≥ 0)\n",
    "            δk = (0.5 / nk) * (k ÷ (nk ÷ 5))\n",
    "            p0[i, j, k] = 0.7 * b + 0.3 * (1 - b)\n",
    "            a[i, j, k] = rand([1, 5.])\n",
    "            s[i, j, k] = rand(Binomial(a[i, j, k], p0[i, j, k]))\n",
    "        end\n",
    "    end\n",
    "end\n",
    "\n",
    "p_mle = ((s .+ 1e-6) ./ (a .+ 2e-6))\n",
    "\n",
    "\n",
    "# build graph\n",
    "edges = Set{Tuple{Int, Int}}()\n",
    "index_map = reshape(1:(nr * nc * nk), (nr, nc, nk));\n",
    "\n",
    "\n",
    "sorted_tuple(i, j) = (min(i, j), max(i, j))\n",
    "\n",
    "for k in 1:nk\n",
    "    for j in 1:nc\n",
    "        for i in 1:nr\n",
    "            nbrs_ = Int[]\n",
    "            (i > 1) && push!(nbrs_, index_map[i - 1, j, k])\n",
    "            (i < nr) && push!(nbrs_, index_map[i + 1, j, k])\n",
    "            (j > 1) && push!(nbrs_, index_map[i, j - 1, k])\n",
    "            (j < nc) && push!(nbrs_, index_map[i, j + 1, k])\n",
    "            (k > 1) && push!(nbrs_, index_map[i, j, k - 1])\n",
    "            (k < nk) && push!(nbrs_, index_map[i, j, k + 1])\n",
    "\n",
    "            src = index_map[i, j, k]\n",
    "            for tgt in nbrs_\n",
    "                push!(edges, sorted_tuple(src, tgt))\n",
    "            end\n",
    "        end\n",
    "    end\n",
    "end\n",
    "\n",
    "edges = collect(edges)\n",
    "s_vec = vec(s);\n",
    "a_vec = vec(a);"
   ]
  },
  {
   "cell_type": "code",
   "execution_count": 3,
   "metadata": {},
   "outputs": [
    {
     "name": "stdout",
     "output_type": "stream",
     "text": [
      "Graph with 111630 nodes and 327509 edges"
     ]
    }
   ],
   "source": [
    "print(\"Graph with $(nr * nc * nk) nodes and $(length(edges)) edges\")"
   ]
  },
  {
   "cell_type": "code",
   "execution_count": 4,
   "metadata": {},
   "outputs": [],
   "source": [
    "# anim = @animate for k in 1:nk\n",
    "#     p1 = plot(Gray.(p0[:, :, k]), title=\"signal\");\n",
    "#     p2 = plot(Gray.(p_mle[:, :, k]), title=\"data\");\n",
    "#     plot(p1, p2, axis=nothing, layout=(1, 2), figsize=(500, 200));\n",
    "# end\n",
    "# gif(anim, \"3dgrid.gif\", fps = 15);"
   ]
  },
  {
   "cell_type": "markdown",
   "metadata": {},
   "source": [
    "![](3dgrid.gif)"
   ]
  },
  {
   "cell_type": "code",
   "execution_count": 5,
   "metadata": {},
   "outputs": [
    {
     "data": {
      "text/plain": [
       "BayesianBinomialGFEN"
      ]
     },
     "execution_count": 5,
     "metadata": {},
     "output_type": "execute_result"
    }
   ],
   "source": [
    "mod = BayesianBinomialGFEN(edges, tv1=5.0)"
   ]
  },
  {
   "cell_type": "code",
   "execution_count": 7,
   "metadata": {},
   "outputs": [
    {
     "name": "stderr",
     "output_type": "stream",
     "text": [
      "\u001b[32mProgress:   3%|██                                       |  ETA: 0:54:12\u001b[39m"
     ]
    },
    {
     "ename": "LoadError",
     "evalue": "InterruptException:",
     "output_type": "error",
     "traceback": [
      "InterruptException:",
      "",
      "Stacktrace:",
      " [1] try_yieldto(::typeof(Base.ensure_rescheduled)) at .\\task.jl:656",
      " [2] wait at .\\task.jl:713 [inlined]",
      " [3] wait(::Base.GenericCondition{Base.Threads.SpinLock}) at .\\condition.jl:106",
      " [4] _wait(::Task) at .\\task.jl:238",
      " [5] wait at .\\task.jl:265 [inlined]",
      " [6] threading_run(::Function) at .\\threadingconstructs.jl:34",
      " [7] macro expansion at .\\threadingconstructs.jl:93 [inlined]",
      " [8] binomial_gibbs_sweep(::Array{Float64,1}, ::Array{Float64,1}, ::Array{Float64,1}, ::Array{Array{Int64,1},1}, ::Array{Array{Float64,1},1}, ::Array{Array{Float64,1},1}, ::Array{Float64,1}, ::Array{Float64,1}; async::Bool) at C:\\Users\\mauri\\Github\\GraphFusedElasticNet.jl\\src\\BayesianBinomialGFEN.jl:166",
      " [9] macro expansion at C:\\Users\\mauri\\Github\\GraphFusedElasticNet.jl\\src\\BayesianBinomialGFEN.jl:198 [inlined]",
      " [10] macro expansion at C:\\Users\\mauri\\.julia\\packages\\ProgressMeter\\0ub8y\\src\\ProgressMeter.jl:773 [inlined]",
      " [11] sample_chain(::BayesianBinomialGFEN, ::Array{Float64,1}, ::Array{Float64,1}, ::Int64; init::Array{Float64,1}, init_eps::Float64, async::Bool) at C:\\Users\\mauri\\Github\\GraphFusedElasticNet.jl\\src\\BayesianBinomialGFEN.jl:197",
      " [12] top-level scope at .\\timing.jl:174 [inlined]",
      " [13] top-level scope at .\\In[7]:0",
      " [14] include_string(::Function, ::Module, ::String, ::String) at .\\loading.jl:1091"
     ]
    }
   ],
   "source": [
    "init = logistic.(vec(p_mle))\n",
    "@time results = sample_chain(mod, s_vec, a_vec, 2_500, init=init, async=true)"
   ]
  },
  {
   "cell_type": "code",
   "execution_count": null,
   "metadata": {},
   "outputs": [],
   "source": []
  }
 ],
 "metadata": {
  "kernelspec": {
   "display_name": "Julia 1.5.3",
   "language": "julia",
   "name": "julia-1.5"
  },
  "language_info": {
   "file_extension": ".jl",
   "mimetype": "application/julia",
   "name": "julia",
   "version": "1.5.3"
  }
 },
 "nbformat": 4,
 "nbformat_minor": 4
}
