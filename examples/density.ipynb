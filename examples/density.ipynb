{
 "cells": [
  {
   "cell_type": "code",
   "execution_count": 29,
   "metadata": {},
   "outputs": [],
   "source": [
    "using Pkg; Pkg.activate(\"..\")\n",
    "using Revise\n",
    "using GraphFusedLasso\n",
    "using Distributions\n",
    "using Random\n",
    "using RCall"
   ]
  },
  {
   "cell_type": "code",
   "execution_count": 30,
   "metadata": {},
   "outputs": [
    {
     "data": {
      "text/plain": [
       "RObject{StrSxp}\n",
       " [1] \"forcats\"   \"stringr\"   \"dplyr\"     \"purrr\"     \"readr\"     \"tidyr\"    \n",
       " [7] \"tibble\"    \"ggplot2\"   \"tidyverse\" \"stats\"     \"graphics\"  \"grDevices\"\n",
       "[13] \"utils\"     \"datasets\"  \"methods\"   \"base\"     \n"
      ]
     },
     "execution_count": 30,
     "metadata": {},
     "output_type": "execute_result"
    }
   ],
   "source": [
    "R\"library('tidyverse')\""
   ]
  },
  {
   "cell_type": "code",
   "execution_count": 31,
   "metadata": {},
   "outputs": [],
   "source": [
    "Random.seed!(809895);"
   ]
  },
  {
   "cell_type": "code",
   "execution_count": 32,
   "metadata": {},
   "outputs": [
    {
     "name": "stdout",
     "output_type": "stream",
     "text": [
      "missingess: 0.66\n"
     ]
    },
    {
     "data": {
      "text/plain": [
       "150-element Array{Array{Float64,1},1}:\n",
       " [0.830643, 1.41122, -0.631256, -1.17013, 1.11931, 1.44811, -1.16537, 1.36493, -1.37351, -0.889378]   \n",
       " [-0.9239, 1.46946, 1.48733, 0.997715, -1.11589, -0.564786, -0.998489, 1.61154, -0.952999, -0.90749]  \n",
       " [-0.877332, 1.1713, 1.04594, 1.31403, 1.09472, -0.843732, 1.12705, 1.33461, -1.27758, -0.649094]     \n",
       " []                                                                                                   \n",
       " [1.70299, -1.19696, 1.26304, 1.26322, -0.702076, 0.978018, 1.24269, 1.66539, 1.5965, 0.950432]       \n",
       " [1.15521, 0.842232, 1.39406, -1.21641, -1.13663, -0.846825, 1.54667, 1.49432, 0.95089, 1.30134]      \n",
       " []                                                                                                   \n",
       " []                                                                                                   \n",
       " [-1.11228, 1.52787, 0.954988, 1.34968, -0.778433, -0.740804, -0.929092, 1.53063, -0.768206, -1.34782]\n",
       " [1.23757, -1.13868, 1.28608, 0.998908, 1.31334, -1.08803, -0.955508, -0.920799, 1.23065, -1.25176]   \n",
       " []                                                                                                   \n",
       " [1.99389, 1.20592, 1.42356, -0.549665, -1.00394, -1.17866, 1.19021, 0.875602, -0.585453, 1.21067]    \n",
       " []                                                                                                   \n",
       " ⋮                                                                                                    \n",
       " [1.6022, 1.01006, -1.24079, 0.891844, -1.80653, 0.914701, -1.5728, -1.49272, 0.93822, 1.31207]       \n",
       " [1.25082, -1.02057, 1.1244, -0.806829, -1.1128, -1.46939, 0.850437, 1.3601, 0.800582, 1.05234]       \n",
       " [0.711503, -1.4811, 1.37383, 1.31568, 1.31517, 0.972805, 0.740461, -1.69617, 1.16404, -1.55852]      \n",
       " [1.63089, 1.00045, 0.805906, 0.973772, -1.89311, 1.40453, 0.880258, 1.3811, 1.16197, 0.666606]       \n",
       " []                                                                                                   \n",
       " []                                                                                                   \n",
       " [-1.97811, -1.99249, 0.650342, -1.5159, 1.3949, 1.21247, -1.71644, -1.41352, 1.16063, -1.66706]      \n",
       " []                                                                                                   \n",
       " []                                                                                                   \n",
       " []                                                                                                   \n",
       " [-1.56173, 1.32384, -1.71889, 0.812617, 1.00836, -1.9204, -1.35957, -1.68819, 0.710788, 1.20355]     \n",
       " [-1.94155, -2.00619, 1.43793, 1.1855, 0.653533, 1.13459, 1.06336, -1.01761, -1.83569, 0.833169]      "
      ]
     },
     "execution_count": 32,
     "metadata": {},
     "output_type": "execute_result"
    }
   ],
   "source": [
    "# data generation\n",
    "\n",
    "N = 150\n",
    "\n",
    "x1 = collect(1:(N ÷ 3))\n",
    "x2 = collect((N ÷ 3 + 1):(2(N ÷ 3)))\n",
    "x3 = collect((2(N ÷ 3) + 1):N)\n",
    "x = [x1; x2; x3]\n",
    "y1 = fill(-1., length(x1))\n",
    "y2 = fill(0.75, length(x2))\n",
    "y3 = 0.75 .- 2.5 .* (x3 .- length(x2)) ./ (N - length(x2))\n",
    "μ1 = [y1; y2; y3]\n",
    "μ2 = 0.25 .* μ1 .+ 1.5\n",
    "\n",
    "σ = 0.25\n",
    "\n",
    "evalpts = collect(range(-3.0, 3.0, length=100))\n",
    "densities = [MixtureModel([Normal(μ1[i], σ), Normal(μ2[i], σ)])\n",
    "             for i in 1:N]\n",
    "# densities = [Normal(μ1[i], σ) for i in 1:N]\n",
    "devals = [pdf.(d, evalpts) for d in densities];\n",
    "ndata = [rand([0, 10]) for d in densities]\n",
    "\n",
    "ndata[1] = 10\n",
    "\n",
    "for i in 40:60\n",
    "    ndata[i] = 0\n",
    "end\n",
    "\n",
    "for i in 90:110\n",
    "    ndata[i] = 0\n",
    "end\n",
    "\n",
    "ndata[150] = 10\n",
    "\n",
    "println(\"missingess: \", sum([1 for n in ndata if n == 0])/N)\n",
    "\n",
    "y = [rand(d, n) for (d, n) in zip(densities, ndata)]"
   ]
  },
  {
   "cell_type": "code",
   "execution_count": 33,
   "metadata": {},
   "outputs": [
    {
     "data": {
      "image/png": "[encoded data removed]"
     },
     "metadata": {},
     "output_type": "display_data"
    },
    {
     "data": {
      "text/plain": [
       "RObject{VecSxp}\n"
      ]
     },
     "execution_count": 33,
     "metadata": {},
     "output_type": "execute_result"
    }
   ],
   "source": [
    "nplots = 36\n",
    "stepsize = N ÷ nplots\n",
    "xs = Float64[]\n",
    "plt = Float64[]\n",
    "vals = Float64[]\n",
    "\n",
    "# for i in 1:nplots\n",
    "#     append!(xs, evalpts)\n",
    "#     append!(plt, fill((i - 1) * stepsize + 1, length(evalpts)))\n",
    "#     append!(vals, devals[(i - 1) * stepsize + 1])\n",
    "# end\n",
    "\n",
    "for i in [1, 30, 60, 90, 120, 150]\n",
    "    append!(xs, evalpts)\n",
    "    append!(plt, fill(i, length(evalpts)))\n",
    "    append!(vals, devals[i])\n",
    "end\n",
    "\n",
    "R\"\"\"\n",
    "df = data.frame(x=$xs, plt=$plt, y=$vals)\n",
    "\n",
    "nd = $ndata\n",
    "my_labeller = function(t) {\n",
    "    return (sprintf(\"%s (%s)\", t, nd[as.integer(t)]))\n",
    "}\n",
    "\n",
    "ggplot(df, aes(x=x, y=y)) +\n",
    "    geom_line() +\n",
    "    facet_wrap(. ~ plt, ncol=1, labeller = labeller(\"plt\"=my_labeller)) +\n",
    "    ggsave(\"densities.png\", units=\"cm\", width=18, height=14)\n",
    "\"\"\""
   ]
  },
  {
   "cell_type": "code",
   "execution_count": 34,
   "metadata": {},
   "outputs": [
    {
     "data": {
      "text/plain": [
       "cv_fit (generic function with 1 method)"
      ]
     },
     "execution_count": 34,
     "metadata": {},
     "output_type": "execute_result"
    }
   ],
   "source": [
    "# function for cross-validation fit\n",
    "\n",
    "function generate_cvsets(y, nsplits)\n",
    "    # make the cv splits\n",
    "    N = length(y)\n",
    "    cvsets = [Set{Int}() for i in 1:nsplits]\n",
    "    iobs = shuffle([i for (i, yi) in enumerate(y) if !isempty(yi)])\n",
    "    Nobs = length(iobs)\n",
    "    splitsize = Nobs ÷ nsplits\n",
    "    for k in 1:nsplits\n",
    "        for i in ((k - 1) * splitsize + 1):(k * splitsize)\n",
    "            push!(cvsets[k], iobs[i])\n",
    "        end\n",
    "    end\n",
    "    return cvsets\n",
    "end\n",
    "               \n",
    "                \n",
    "function fit(ytrain, λ1, λ2)\n",
    "    N = length(ytrain)\n",
    "    lambdasl1 = fill(λ1, N)\n",
    "    lambdasl2 = fill(λ2, N)\n",
    "\n",
    "    # create the tree\n",
    "    M  = 33\n",
    "    splits = collect(range(-2.5, 2.5, length=M))\n",
    "    tree = DensityTree(splits)\n",
    "    bins2counts = Dict()\n",
    "    for (j, (li, ui)) in enumerate([tree.bins; [(i, i+1) for i in 1:M-1]])\n",
    "        lower = splits[li]\n",
    "        upper = splits[ui]\n",
    "        k = [sum(lower .< yi .< upper) for yi in ytrain]\n",
    "        bins2counts[(li, ui)] = k\n",
    "    end\n",
    "            \n",
    "    # fit binomial model in each tree\n",
    "    beta = zeros(N, M - 2)\n",
    "    for j in 1:M - 2\n",
    "        li, ui = tree.bins[j]\n",
    "        mi = (ui + li) ÷ 2 \n",
    "        parent_counts = bins2counts[(li, ui)] .+ 0.1\n",
    "        left_counts = bins2counts[(li, mi)]  .+ 0.05\n",
    "\n",
    "        lambdasl1 = fill(λ1, N)\n",
    "        lambdasl2 = fill(λ2, N)\n",
    "        model = BinomialEnet(\n",
    "            ptr, brks, lambdasl1, lambdasl2;\n",
    "            abstol=0.0, reltol=1e-7)\n",
    "        fit!(model, left_counts, parent_counts; steps=3000)\n",
    "\n",
    "        beta[:, j] = model.beta\n",
    "    end\n",
    "    tree.beta = beta\n",
    "    return tree\n",
    "end\n",
    "\n",
    "                \n",
    "function cv_fit(y, evalpts, ptr, brks, lambdas, cvsets)\n",
    "    # for each cv split get the mse error\n",
    "    N = length(y)\n",
    "    nsplits = length(cvsets)\n",
    "    nlambdas = length(lambdas)\n",
    "    test_likelihood = zeros(nlambdas)\n",
    "                    \n",
    "    # prepare the tree structure and the bint \n",
    "    for (k, (λ1, λ2)) in enumerate(lambdas)\n",
    "        for i in 1:nsplits\n",
    "            # get the cv vector with missing data\n",
    "            ytrain = [j in cvsets[i] ? Float64[] : yi\n",
    "                      for (j, yi) in enumerate(y)]\n",
    "\n",
    "            tree = fit(ytrain, λ1, λ2)               \n",
    "                            \n",
    "            # compute the out-of-sample likelihood\n",
    "            Ntest = 0.0\n",
    "            likelihood = 0.0\n",
    "            for j in collect(cvsets[i])\n",
    "                test_eval = y[j]\n",
    "                Ntest += length(test_eval)\n",
    "                likelihood += sum(predict(tree, sort(test_eval))[j])\n",
    "            end\n",
    "            likelihood /= Ntest\n",
    "                             \n",
    "            test_likelihood[k] += likelihood / nsplits\n",
    "        end\n",
    "    end\n",
    "\n",
    "    # now choose the best lambdas\n",
    "    best_lambdas = lambdas[argmax(test_likelihood)]\n",
    "    best_likelihood = maximum(test_likelihood)\n",
    "\n",
    "    # train best for mse\n",
    "    best_tree = fit(y, best_lambdas[1], best_lambdas[2])\n",
    "    densities = predict(best_tree, evalpts)\n",
    "\n",
    "\n",
    "    return Dict(\"best_lambdas\" => best_lambdas,\n",
    "                \"best_likelihood\" => best_likelihood,\n",
    "                \"densities\" => densities,\n",
    "                \"cvsets\" => cvsets)\n",
    "end"
   ]
  },
  {
   "cell_type": "code",
   "execution_count": 35,
   "metadata": {},
   "outputs": [
    {
     "data": {
      "text/plain": [
       "5-element Array{Set{Int64},1}:\n",
       " Set([21, 12, 134, 3, 64, 36, 62, 22, 138, 24])   \n",
       " Set([71, 133, 68, 26, 10, 80, 61, 137, 149, 139])\n",
       " Set([128, 37, 119, 9, 125, 122, 130, 131, 82, 6])\n",
       " Set([73, 132, 1, 31, 77, 140, 145, 78, 141, 18]) \n",
       " Set([33, 2, 114, 19, 87, 70, 5, 150, 142, 85])   "
      ]
     },
     "execution_count": 35,
     "metadata": {},
     "output_type": "execute_result"
    }
   ],
   "source": [
    "nsplits = 5\n",
    "ptr = collect(1:N)\n",
    "brks = [1, N + 1]\n",
    "cvsets = generate_cvsets(y, nsplits)"
   ]
  },
  {
   "cell_type": "code",
   "execution_count": 36,
   "metadata": {},
   "outputs": [
    {
     "data": {
      "text/plain": [
       "Dict{String,Any} with 4 entries:\n",
       "  \"cvsets\"          => Set{Int64}[Set([21, 12, 134, 3, 64, 36, 62, 22, 138, 24]…\n",
       "  \"best_lambdas\"    => (2.08163, 1.0e-12)\n",
       "  \"densities\"       => Array{Float64,1}[[0.0, 0.0, 0.0, 0.0, 0.0, 0.0, 0.0, 0.0…\n",
       "  \"best_likelihood\" => 0.443614"
      ]
     },
     "metadata": {},
     "output_type": "display_data"
    },
    {
     "data": {
      "image/png": "[encoded data removed]"
     },
     "metadata": {},
     "output_type": "display_data"
    },
    {
     "data": {
      "text/plain": [
       "RObject{VecSxp}\n"
      ]
     },
     "execution_count": 36,
     "metadata": {},
     "output_type": "execute_result"
    }
   ],
   "source": [
    "# compute the fused lasso best\n",
    "lambdas = [(l, 1e-12) for l in range(1e-12, 3.0, length=50)]\n",
    "results_fl = cv_fit(y, evalpts, ptr, brks, lambdas, cvsets)\n",
    "\n",
    "devals_fl = results_fl[\"densities\"]\n",
    "\n",
    "display(results_fl)\n",
    "\n",
    "nplots = 36\n",
    "stepsize = N ÷ nplots\n",
    "vals_fl = Float64[]\n",
    "for i in 1:nplots\n",
    "    append!(vals_fl, devals_fl[i * stepsize])\n",
    "end\n",
    "\n",
    "\n",
    "R\"\"\"\n",
    "df = data.frame(x=$xs, plt=$plt, y=$vals)\n",
    "df_fl = data.frame(x=$xs, plt=$plt, y=$vals_fl)\n",
    "    \n",
    "nd = $ndata\n",
    "my_labeller = function(t) {\n",
    "    return (sprintf(\"%s (%s)\", t, nd[as.integer(t)]))\n",
    "}\n",
    "    \n",
    "ggplot() +\n",
    "    geom_line(data=df, aes(x=x, y=y)) +\n",
    "    geom_line(data=df_fl, aes(x=x, y=y), col=\"blue\") +\n",
    "    facet_wrap(. ~ plt, ncol=sqrt($nplots), labeller = labeller(\"plt\"=my_labeller)) +\n",
    "    ggsave(\"densities_fl.png\", units=\"cm\", width=18, height=14)\n",
    "\"\"\""
   ]
  },
  {
   "cell_type": "code",
   "execution_count": 37,
   "metadata": {},
   "outputs": [
    {
     "data": {
      "image/png": "[encoded data removed]"
     },
     "metadata": {},
     "output_type": "display_data"
    },
    {
     "data": {
      "text/plain": [
       "RObject{VecSxp}\n"
      ]
     },
     "execution_count": 37,
     "metadata": {},
     "output_type": "execute_result"
    }
   ],
   "source": [
    "nplots = 36\n",
    "δ = evalpts[2] - evalpts[1]\n",
    "means_fl = Float64[]\n",
    "for i in 1:N\n",
    "    f = devals_fl[i] .* evalpts\n",
    "    μhat = δ .* (0.5f[1] + 0.5f[2] + sum(f[2:end - 1]))\n",
    "    push!(means_fl, μhat)\n",
    "end\n",
    "\n",
    "m = 0.5*μ1 + 0.5*μ2\n",
    "R\"\"\"\n",
    "df = data.frame(x=$(1:N), y=$means_fl, mu=$m)\n",
    "ggplot() +\n",
    "    geom_step(data=df, aes(x=x, y=mu), linetype=\"dashed\") +\n",
    "    geom_step(data=df, aes(x=x, y=y), col=\"blue\")\n",
    "\"\"\""
   ]
  },
  {
   "cell_type": "code",
   "execution_count": 38,
   "metadata": {},
   "outputs": [
    {
     "data": {
      "text/plain": [
       "Dict{String,Any} with 4 entries:\n",
       "  \"cvsets\"          => Set{Int64}[Set([21, 12, 134, 3, 64, 36, 62, 22, 138, 24]…\n",
       "  \"best_lambdas\"    => (1.0e-12, 9.39394)\n",
       "  \"densities\"       => Array{Float64,1}[[0.0, 0.0, 0.0, 0.0, 0.0, 0.0, 0.0, 0.0…\n",
       "  \"best_likelihood\" => 0.482917"
      ]
     },
     "metadata": {},
     "output_type": "display_data"
    }
   ],
   "source": [
    "# compute the fused lasso best\n",
    "lambdas = [(1e-12, l) for l in range(1e-12, 30.0, length=100)]\n",
    "results_kal = cv_fit(y, evalpts, ptr, brks, lambdas, cvsets)\n",
    "\n",
    "devals_kal = results_kal[\"densities\"]\n",
    "\n",
    "display(results_kal)\n",
    "\n",
    "nplots = 36\n",
    "stepsize = N ÷ nplots\n",
    "vals_kal = Float64[]\n",
    "for i in 1:nplots\n",
    "    append!(vals_kal, devals_kal[i * stepsize])\n",
    "end\n",
    "\n"
   ]
  },
  {
   "cell_type": "code",
   "execution_count": 39,
   "metadata": {},
   "outputs": [
    {
     "data": {
      "image/png": "[encoded data removed]"
     },
     "metadata": {},
     "output_type": "display_data"
    },
    {
     "data": {
      "text/plain": [
       "RObject{VecSxp}\n"
      ]
     },
     "execution_count": 39,
     "metadata": {},
     "output_type": "execute_result"
    }
   ],
   "source": [
    "R\"\"\"\n",
    "df = data.frame(x=$xs, plt=$plt, y=$vals)\n",
    "df_kal = data.frame(x=$xs, plt=$plt, y=$vals_kal)\n",
    "\n",
    "nd = $ndata\n",
    "my_labeller = function(t) {\n",
    "    return (sprintf(\"%s (%s)\", t, nd[as.integer(t)]))\n",
    "}\n",
    "\n",
    "ggplot() +\n",
    "    geom_line(data=df, aes(x=x, y=y), size=0.5) +\n",
    "    geom_line(data=df_kal, aes(x=x, y=y), col=\"blue\", size=0.5) +\n",
    "    facet_wrap(. ~ plt, ncol=12, labeller = labeller(\"plt\"=my_labeller)) +\n",
    "    labs(x=\"\", y=\"\") +\n",
    "    ggsave(\"benchmarks_densities_kal.png\", units=\"cm\", width=25, height=7)\n",
    "\"\"\""
   ]
  },
  {
   "cell_type": "code",
   "execution_count": 40,
   "metadata": {},
   "outputs": [
    {
     "data": {
      "image/png": "[encoded data removed]"
     },
     "metadata": {},
     "output_type": "display_data"
    },
    {
     "data": {
      "text/plain": [
       "RObject{VecSxp}\n"
      ]
     },
     "execution_count": 40,
     "metadata": {},
     "output_type": "execute_result"
    }
   ],
   "source": [
    "nplots = 36\n",
    "δ = evalpts[2] - evalpts[1]\n",
    "means_kal = Float64[]\n",
    "for i in 1:N\n",
    "    f = devals_kal[i] .* evalpts\n",
    "    μhat = δ .* (0.5f[1] + 0.5f[2] + sum(f[2:end - 1]))\n",
    "    push!(means_kal, μhat)\n",
    "end\n",
    "\n",
    "m = 0.5*μ1 + 0.5*μ2\n",
    "R\"\"\"\n",
    "df = data.frame(x=$(1:N), y=$means_kal, mu=$m)\n",
    "ggplot() +\n",
    "    geom_step(data=df, aes(x=x, y=mu), linetype=\"dashed\") +\n",
    "    geom_step(data=df, aes(x=x, y=y), col=\"blue\")\n",
    "\"\"\""
   ]
  },
  {
   "cell_type": "code",
   "execution_count": null,
   "metadata": {},
   "outputs": [],
   "source": [
    "# compute the fused lasso best\n",
    "lambdas = [(l1, l2) for l1 in range(1.0, 2.0, length=15)\n",
    "                    for l2 in range(1e-12, 5.0, length=15)]\n",
    "results_enet = cv_fit(y, evalpts, ptr, brks, lambdas, cvsets)\n",
    "\n",
    "devals_enet = results_enet[\"densities\"]\n",
    "\n",
    "display(results_enet)\n",
    "\n",
    "nplots = 36\n",
    "stepsize = N ÷ nplots\n",
    "vals_enet = Float64[]\n",
    "for i in 1:nplots\n",
    "    append!(vals_enet, devals_enet[i * stepsize])\n",
    "end\n",
    "\n"
   ]
  },
  {
   "cell_type": "code",
   "execution_count": null,
   "metadata": {},
   "outputs": [],
   "source": [
    "\n",
    "R\"\"\"\n",
    "df = data.frame(x=$xs, plt=$plt, y=$vals)\n",
    "df_enet = data.frame(x=$xs, plt=$plt, y=$vals_enet)\n",
    "            \n",
    "nd = $ndata\n",
    "my_labeller = function(t) {\n",
    "    return (sprintf(\"%s (%s)\", t, nd[as.integer(t)]))\n",
    "}\n",
    "\n",
    "ggplot() +\n",
    "    geom_line(data=df, aes(x=x, y=y), size=0.5) +\n",
    "    geom_line(data=df_enet, aes(x=x, y=y), col=\"blue\", size=0.5) +\n",
    "    facet_wrap(. ~ plt, ncol=12, labeller = labeller(\"plt\"=my_labeller)) +\n",
    "    labs(x=\"\", y=\"\") +\n",
    "    ggsave(\"benchmarks_densities_enet.png\", units=\"cm\", width=25, height=7)\n",
    "\"\"\""
   ]
  },
  {
   "cell_type": "code",
   "execution_count": null,
   "metadata": {},
   "outputs": [],
   "source": [
    "nplots = 36\n",
    "δ = evalpts[2] - evalpts[1]\n",
    "means_enet = Float64[]\n",
    "for i in 1:N\n",
    "    f = devals_enet[i] .* evalpts\n",
    "    μhat = δ .* (0.5f[1] + 0.5f[2] + sum(f[2:end - 1]))\n",
    "    push!(means_enet, μhat)\n",
    "end\n",
    "\n",
    "m = 0.5*μ1 + 0.5*μ2\n",
    "R\"\"\"\n",
    "df = data.frame(x=$(1:N), y=$means_enet, mu=$m)\n",
    "ggplot() +\n",
    "    geom_step(data=df, aes(x=x, y=mu), linetype=\"dashed\") +\n",
    "    geom_line(data=df, aes(x=x, y=y), col=\"blue\")\n",
    "\"\"\""
   ]
  },
  {
   "cell_type": "code",
   "execution_count": null,
   "metadata": {},
   "outputs": [],
   "source": [
    "devals_fl = results_fl[\"densities\"]\n",
    "devals_kal = results_kal[\"densities\"]\n",
    "devals_enet = results_enet[\"densities\"]\n",
    "\n",
    "xs = Float64[]\n",
    "vals_fl = Float64[]\n",
    "vals_kal = Float64[]\n",
    "vals_enet = Float64[]\n",
    "plt = Int[]\n",
    "plt_nums = [1, 30, 60, 90, 120, 150]\n",
    "for i in plt_nums\n",
    "    append!(xs, evalpts)\n",
    "    append!(plt, fill(i, length(evalpts)))\n",
    "    append!(vals_fl, devals_fl[i])\n",
    "    append!(vals_kal, devals_kal[i])\n",
    "    append!(vals_enet, devals_enet[i])\n",
    "end\n",
    "\n",
    "\n",
    "R\"\"\"\n",
    "df = data.frame(x=$xs, plt=$plt, y=$vals, linetype=\"dashed\")\n",
    "df_fl = data.frame(x=$xs, plt=$plt, y=$vals_fl, method=\"GFL\")\n",
    "df_kal = data.frame(x=$xs, plt=$plt, y=$vals_kal, method=\"GMRF\")\n",
    "df_enet = data.frame(x=$xs, plt=$plt, y=$vals_enet, method=\"GFEN\")\n",
    "df_fit = rbind(df_fl, df_kal, df_enet)\n",
    "df_fit$method = ordered(df_fit$method, levels=c(\"GFL\", \"GFEN\", \"GMRF\"))\n",
    "nd = $ndata\n",
    "time_labeller = function(t) {\n",
    "    return (sprintf(\"%s (%s)\", t, nd[as.integer(t)]))\n",
    "}\n",
    "    \n",
    "ggplot() +\n",
    "    geom_line(data=df, aes(x=x, y=y), size=0.5, linetype=\"dashed\") +\n",
    "    geom_line(data=df_fit, aes(x=x, y=y), col=\"blue\", size=0.5) +\n",
    "    facet_grid(plt ~ method, labeller = labeller(plt=my_labeller, method=label_value)) +\n",
    "    labs(x=\"\", y=\"\") +\n",
    "    ggsave(\"benchmarks_densities_vertical.png\", units=\"cm\", width=15, height=18)\n",
    "\"\"\""
   ]
  },
  {
   "cell_type": "code",
   "execution_count": null,
   "metadata": {},
   "outputs": [],
   "source": []
  }
 ],
 "metadata": {
  "kernelspec": {
   "display_name": "Julia 1.1.0",
   "language": "julia",
   "name": "julia-1.1"
  },
  "language_info": {
   "file_extension": ".jl",
   "mimetype": "application/julia",
   "name": "julia",
   "version": "1.1.0"
  }
 },
 "nbformat": 4,
 "nbformat_minor": 2
}
